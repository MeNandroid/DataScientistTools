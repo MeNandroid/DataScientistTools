{
    "cells": [
        {
            "metadata": {
                "collapsed": true
            },
            "cell_type": "markdown",
            "source": "# My Jupyter Notebook on IBM Data Science Experience"
        },
        {
            "metadata": {},
            "cell_type": "markdown",
            "source": "**SANJEEV NANDA**\n\nFuture Data Scientist "
        },
        {
            "metadata": {},
            "cell_type": "markdown",
            "source": "*I am interested in data science because it can tell great stories...*"
        },
        {
            "metadata": {},
            "cell_type": "markdown",
            "source": "## Calculate the sum of 1+1"
        },
        {
            "metadata": {},
            "cell_type": "code",
            "source": "1+1",
            "execution_count": 2,
            "outputs": [
                {
                    "output_type": "execute_result",
                    "execution_count": 2,
                    "data": {
                        "text/plain": "2"
                    },
                    "metadata": {}
                }
            ]
        },
        {
            "metadata": {},
            "cell_type": "markdown",
            "source": "1. Hello !\n2. Everyone there."
        },
        {
            "metadata": {},
            "cell_type": "markdown",
            "source": "- this\n+ is\n* ~~not~~\n* Polong\n"
        },
        {
            "metadata": {},
            "cell_type": "markdown",
            "source": "\n|**Student**  | **Grade** | \n|:---------:  | :-------: | \n|John Smith   |   90      | \n|Jane Doe     |   95      | "
        },
        {
            "metadata": {},
            "cell_type": "markdown",
            "source": "*\u201cI should study more\u201d \u2013 John Smith*"
        },
        {
            "metadata": {},
            "cell_type": "code",
            "source": "",
            "execution_count": null,
            "outputs": []
        }
    ],
    "metadata": {
        "kernelspec": {
            "name": "python3",
            "display_name": "Python 3.6",
            "language": "python"
        },
        "language_info": {
            "name": "python",
            "version": "3.6.9",
            "mimetype": "text/x-python",
            "codemirror_mode": {
                "name": "ipython",
                "version": 3
            },
            "pygments_lexer": "ipython3",
            "nbconvert_exporter": "python",
            "file_extension": ".py"
        }
    },
    "nbformat": 4,
    "nbformat_minor": 1
}